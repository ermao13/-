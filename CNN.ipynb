{
 "cells": [
  {
   "cell_type": "code",
   "execution_count": 6,
   "metadata": {},
   "outputs": [
    {
     "name": "stderr",
     "output_type": "stream",
     "text": [
      "Using TensorFlow backend.\n"
     ]
    }
   ],
   "source": [
    "from tensorflow.keras.layers import Dense, Dropout, Activation, Flatten, Conv2D, MaxPooling2D\n",
    "import pickle \n",
    "import numpy as np\n",
    "from keras.models import Sequential\n",
    "from keras.layers import Conv2D, MaxPooling2D\n",
    "from keras.layers import Activation, Dropout, Flatten, Dense"
   ]
  },
  {
   "cell_type": "code",
   "execution_count": 4,
   "metadata": {},
   "outputs": [],
   "source": [
    "#读取pickle中的特征和标签信息\n",
    "X = pickle.load(open(\"X.pickle\",\"rb\"))\n",
    "y = pickle.load(open(\"y.pickle\",\"rb\"))\n",
    "#图像数据归一化\n",
    "X = X / 255"
   ]
  },
  {
   "cell_type": "code",
   "execution_count": 7,
   "metadata": {},
   "outputs": [
    {
     "name": "stdout",
     "output_type": "stream",
     "text": [
      "WARNING:tensorflow:From C:\\Users\\lenovo\\Anaconda3\\lib\\site-packages\\tensorflow\\python\\framework\\op_def_library.py:263: colocate_with (from tensorflow.python.framework.ops) is deprecated and will be removed in a future version.\n",
      "Instructions for updating:\n",
      "Colocations handled automatically by placer.\n",
      "WARNING:tensorflow:From C:\\Users\\lenovo\\Anaconda3\\lib\\site-packages\\tensorflow\\python\\ops\\math_ops.py:3066: to_int32 (from tensorflow.python.ops.math_ops) is deprecated and will be removed in a future version.\n",
      "Instructions for updating:\n",
      "Use tf.cast instead.\n",
      "Train on 12150 samples, validate on 1350 samples\n",
      "Epoch 1/10\n",
      "12150/12150 [==============================] - 431s 35ms/step - loss: 0.6616 - acc: 0.6192 - val_loss: 0.5937 - val_acc: 0.6844\n",
      "Epoch 2/10\n",
      "12150/12150 [==============================] - 433s 36ms/step - loss: 0.4775 - acc: 0.7704 - val_loss: 0.4100 - val_acc: 0.8067\n",
      "Epoch 3/10\n",
      "12150/12150 [==============================] - 432s 36ms/step - loss: 0.2419 - acc: 0.9035 - val_loss: 0.2117 - val_acc: 0.9104\n",
      "Epoch 4/10\n",
      "12150/12150 [==============================] - 432s 36ms/step - loss: 0.0891 - acc: 0.9710 - val_loss: 0.0874 - val_acc: 0.9696\n",
      "Epoch 5/10\n",
      "12150/12150 [==============================] - 433s 36ms/step - loss: 0.0237 - acc: 0.9947 - val_loss: 0.0911 - val_acc: 0.9763\n",
      "Epoch 6/10\n",
      "12150/12150 [==============================] - 434s 36ms/step - loss: 0.0074 - acc: 0.9986 - val_loss: 0.0255 - val_acc: 0.9956\n",
      "Epoch 7/10\n",
      "12150/12150 [==============================] - 434s 36ms/step - loss: 9.5128e-04 - acc: 1.0000 - val_loss: 0.0239 - val_acc: 0.9956\n",
      "Epoch 8/10\n",
      "12150/12150 [==============================] - 434s 36ms/step - loss: 3.9618e-04 - acc: 1.0000 - val_loss: 0.0303 - val_acc: 0.9956\n",
      "Epoch 9/10\n",
      "12150/12150 [==============================] - 433s 36ms/step - loss: 2.1029e-04 - acc: 1.0000 - val_loss: 0.0308 - val_acc: 0.9956\n",
      "Epoch 10/10\n",
      "12150/12150 [==============================] - 434s 36ms/step - loss: 1.4309e-04 - acc: 1.0000 - val_loss: 0.0313 - val_acc: 0.9956\n"
     ]
    },
    {
     "data": {
      "text/plain": [
       "<keras.callbacks.History at 0x3e603240>"
      ]
     },
     "execution_count": 7,
     "metadata": {},
     "output_type": "execute_result"
    }
   ],
   "source": [
    "#Sequential卷积神经网络模型\n",
    "model = Sequential()\n",
    "\n",
    "#卷积层读入数据\n",
    "model.add(Conv2D(64,(3,3), input_shape = X.shape[1:])) #shape[1:]获得除数据第一列外其他的数据形状，本例中X.shape为（13500,150,150,1）,处理后为（150,150,1）\n",
    "#给卷积层提供激活函数\n",
    "model.add(Activation('relu'))\n",
    "#池化层\n",
    "model.add(MaxPooling2D(pool_size=(2,2)))\n",
    "\n",
    "model.add(Conv2D(64, (3, 3)))\n",
    "model.add(Activation(\"relu\"))\n",
    "model.add(MaxPooling2D(pool_size=(2,2)))\n",
    "\n",
    "model.add(Flatten()) #Conv Layer是2D， DenseLayer是1D的 所以需要将ConvLayer压平\n",
    "model.add(Dense(64))\n",
    "model.add(Activation(\"relu\"))\n",
    "\n",
    "model.add(Dense(1))\n",
    "model.add(Activation(\"sigmoid\"))\n",
    "\n",
    "model.compile(loss=\"binary_crossentropy\",\n",
    "             optimizer=\"adam\",\n",
    "             metrics=[\"accuracy\"]) # 可以使用categorical_crossentropy作为损失函数\n",
    "\n",
    "model.fit(X, y, batch_size =32, epochs=10, validation_split=0.1)"
   ]
  },
  {
   "cell_type": "code",
   "execution_count": null,
   "metadata": {},
   "outputs": [],
   "source": []
  }
 ],
 "metadata": {
  "kernelspec": {
   "display_name": "Python 3",
   "language": "python",
   "name": "python3"
  },
  "language_info": {
   "codemirror_mode": {
    "name": "ipython",
    "version": 3
   },
   "file_extension": ".py",
   "mimetype": "text/x-python",
   "name": "python",
   "nbconvert_exporter": "python",
   "pygments_lexer": "ipython3",
   "version": "3.7.1"
  }
 },
 "nbformat": 4,
 "nbformat_minor": 2
}
