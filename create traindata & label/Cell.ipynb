{
 "cells": [
  {
   "cell_type": "code",
   "execution_count": 1,
   "metadata": {},
   "outputs": [],
   "source": [
    "import numpy as np #处理图像数的数组操作\n",
    "import os #遍历目录和结合路径\n",
    "import cv2 #处理图像数的图像操作\n",
    "import matplotlib.pyplot as plt #图像绘制\n",
    "import random #随机函数打乱数据集\n",
    "import pickle #保存X特征和y标签的信息，以便别的程序使用"
   ]
  },
  {
   "cell_type": "code",
   "execution_count": 2,
   "metadata": {},
   "outputs": [],
   "source": [
    "data_path = r'E:\\Machine Learning\\cell_images\\cell_train'\n",
    "categories = ['Parasitized','Uninfected']\n",
    "img_size = 150\n",
    "train_data = []"
   ]
  },
  {
   "cell_type": "code",
   "execution_count": 5,
   "metadata": {},
   "outputs": [],
   "source": [
    "#统一图片尺寸，生成特征数据集和标签\n",
    "def create_train_data(): #定义函数\n",
    "    for category in categories:\n",
    "        path = os.path.join(data_path, category) #用于路径拼接文件路径\n",
    "        class_num = categories.index(category) #检测字符串（\"categories\"）中是否包含子字符串（\"category\"）,若有则返回定义的索引值，否则抛出异常\n",
    "        for img in os.listdir(path): #返回指定的文件夹包含的文件或文件夹的名字的列表\n",
    "            try: #用try来抓取图像文件坏了而引起的异常，如果遇到了异常则跳过\n",
    "                img_array = cv2.imread(os.path.join(path, img),cv2.IMREAD_GRAYSCALE) #读入图片，黑白模式\n",
    "                new_array = cv2.resize(img_array, (img_size, img_size)) #规定图片尺寸\n",
    "                train_data.append([new_array,class_num])  #将图像和标签加入训练集中，[]中的参数一一对应\n",
    "            except Exception as e:\n",
    "                pass\n",
    "\n",
    "create_train_data() #执行函数\n",
    "random.shuffle(train_data) #打乱训练集\n",
    "X = [] #定义特征数据列表\n",
    "y = [] #定义标签列表\n",
    "\n",
    "for feature,label in train_data:\n",
    "    X.append(feature)\n",
    "    y.append(label)\n",
    "    \n",
    "X = np.array(X).reshape(-1,img_size,img_size,1) # 最后1表示grayscal只有1个通道\n",
    "#试验一下reshape(-1)的作用：原本-1是指不知道此参数为何值，根据另一个参数的维度计算出该shape值"
   ]
  },
  {
   "cell_type": "code",
   "execution_count": 6,
   "metadata": {},
   "outputs": [
    {
     "data": {
      "text/plain": [
       "'\\n# pickle读取数据\\npickle_in = open(\"X.pickle\", \"rb\")\\nX = pickle.load(pickle_in)\\n'"
      ]
     },
     "execution_count": 6,
     "metadata": {},
     "output_type": "execute_result"
    }
   ],
   "source": [
    "#保存图像和标签数据，供其他的程序使用\n",
    "# pickle保存数据\n",
    "pickle_out = open(\"X.pickle\", \"wb\")\n",
    "pickle.dump(X, pickle_out)\n",
    "pickle_out.close()\n",
    "\n",
    "pickle_out = open(\"y.pickle\", \"wb\")\n",
    "pickle.dump(y, pickle_out)\n",
    "pickle_out.close()\n",
    "'''\n",
    "# pickle读取数据\n",
    "pickle_in = open(\"X.pickle\", \"rb\")\n",
    "X = pickle.load(pickle_in)\n",
    "'''"
   ]
  },
  {
   "cell_type": "code",
   "execution_count": null,
   "metadata": {},
   "outputs": [],
   "source": []
  }
 ],
 "metadata": {
  "kernelspec": {
   "display_name": "Python 3",
   "language": "python",
   "name": "python3"
  },
  "language_info": {
   "codemirror_mode": {
    "name": "ipython",
    "version": 3
   },
   "file_extension": ".py",
   "mimetype": "text/x-python",
   "name": "python",
   "nbconvert_exporter": "python",
   "pygments_lexer": "ipython3",
   "version": "3.7.1"
  }
 },
 "nbformat": 4,
 "nbformat_minor": 2
}
