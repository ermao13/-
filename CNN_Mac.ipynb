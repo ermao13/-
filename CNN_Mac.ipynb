{
 "cells": [
  {
   "cell_type": "code",
   "execution_count": 1,
   "metadata": {},
   "outputs": [],
   "source": [
    "from tensorflow.keras.layers import Dense, Dropout, Activation, Flatten, Conv2D, MaxPooling2D\n",
    "import pickle \n",
    "import numpy as np\n",
    "from tensorflow.keras.models import Sequential"
   ]
  },
  {
   "cell_type": "code",
   "execution_count": 2,
   "metadata": {},
   "outputs": [],
   "source": [
    "#读取pickle中的特征和标签信息\n",
    "X = pickle.load(open(\"X.pickle\",\"rb\"))\n",
    "y = pickle.load(open(\"y.pickle\",\"rb\"))\n",
    "#图像数据归一化\n",
    "X = X / 255"
   ]
  },
  {
   "cell_type": "code",
   "execution_count": 3,
   "metadata": {},
   "outputs": [
    {
     "name": "stdout",
     "output_type": "stream",
     "text": [
      "WARNING:tensorflow:From /Users/senioryear/anaconda3/lib/python3.7/site-packages/tensorflow/python/ops/resource_variable_ops.py:435: colocate_with (from tensorflow.python.framework.ops) is deprecated and will be removed in a future version.\n",
      "Instructions for updating:\n",
      "Colocations handled automatically by placer.\n",
      "WARNING:tensorflow:From /Users/senioryear/anaconda3/lib/python3.7/site-packages/tensorflow/python/keras/layers/core.py:143: calling dropout (from tensorflow.python.ops.nn_ops) with keep_prob is deprecated and will be removed in a future version.\n",
      "Instructions for updating:\n",
      "Please use `rate` instead of `keep_prob`. Rate should be set to `rate = 1 - keep_prob`.\n",
      "Train on 4694 samples, validate on 522 samples\n",
      "WARNING:tensorflow:From /Users/senioryear/anaconda3/lib/python3.7/site-packages/tensorflow/python/ops/math_ops.py:3066: to_int32 (from tensorflow.python.ops.math_ops) is deprecated and will be removed in a future version.\n",
      "Instructions for updating:\n",
      "Use tf.cast instead.\n",
      "Epoch 1/10\n",
      "4694/4694 [==============================] - 275s 59ms/sample - loss: 0.2349 - acc: 0.8992 - val_loss: 0.1060 - val_acc: 0.9655\n",
      "Epoch 2/10\n",
      "4694/4694 [==============================] - 268s 57ms/sample - loss: 0.0971 - acc: 0.9648 - val_loss: 0.0733 - val_acc: 0.9808\n",
      "Epoch 3/10\n",
      "4694/4694 [==============================] - 286s 61ms/sample - loss: 0.0753 - acc: 0.9725 - val_loss: 0.0746 - val_acc: 0.9789\n",
      "Epoch 4/10\n",
      "4694/4694 [==============================] - 301s 64ms/sample - loss: 0.0550 - acc: 0.9791 - val_loss: 0.0598 - val_acc: 0.9828\n",
      "Epoch 5/10\n",
      "4694/4694 [==============================] - 289s 61ms/sample - loss: 0.0449 - acc: 0.9823 - val_loss: 0.0714 - val_acc: 0.9751\n",
      "Epoch 6/10\n",
      "4694/4694 [==============================] - 266s 57ms/sample - loss: 0.0514 - acc: 0.9802 - val_loss: 0.0882 - val_acc: 0.9713\n",
      "Epoch 7/10\n",
      "4694/4694 [==============================] - 266s 57ms/sample - loss: 0.0295 - acc: 0.9904 - val_loss: 0.0557 - val_acc: 0.9885\n",
      "Epoch 8/10\n",
      "4694/4694 [==============================] - 266s 57ms/sample - loss: 0.0148 - acc: 0.9949 - val_loss: 0.0683 - val_acc: 0.9847\n",
      "Epoch 9/10\n",
      "4694/4694 [==============================] - 269s 57ms/sample - loss: 0.0077 - acc: 0.9979 - val_loss: 0.0607 - val_acc: 0.9847\n",
      "Epoch 10/10\n",
      "4694/4694 [==============================] - 266s 57ms/sample - loss: 0.0059 - acc: 0.9981 - val_loss: 0.0579 - val_acc: 0.9866\n"
     ]
    },
    {
     "data": {
      "text/plain": [
       "<tensorflow.python.keras.callbacks.History at 0xb6e367780>"
      ]
     },
     "execution_count": 3,
     "metadata": {},
     "output_type": "execute_result"
    }
   ],
   "source": [
    "#Sequential卷积神经网络模型\n",
    "model = Sequential()\n",
    "\n",
    "#卷积层读入数据\n",
    "model.add(Conv2D(64,(3,3), input_shape = X.shape[1:])) #shape[1:]获得除数据第一列外其他的数据形状，本例中X.shape为（13500,150,150,1）,处理后为（150,150,1）\n",
    "#给卷积层提供激活函数\n",
    "model.add(Activation('relu'))\n",
    "#池化层\n",
    "model.add(MaxPooling2D(pool_size=(2,2)))\n",
    "\n",
    "model.add(Conv2D(64, (3, 3)))\n",
    "model.add(Activation(\"relu\"))\n",
    "model.add(MaxPooling2D(pool_size=(2,2)))\n",
    "\n",
    "model.add(Flatten()) #Conv Layer是2D， DenseLayer是1D的 所以需要将ConvLayer压平\n",
    "model.add(Dense(64))\n",
    "model.add(Activation(\"relu\"))\n",
    "model.add(Dropout(0.1))\n",
    "model.add(Dense(1))\n",
    "model.add(Activation(\"sigmoid\"))\n",
    "\n",
    "model.compile(loss=\"binary_crossentropy\",\n",
    "             optimizer=\"adam\",\n",
    "             metrics=[\"accuracy\"]) # 可以使用categorical_crossentropy作为损失函数\n",
    "\n",
    "model.fit(X, y, batch_size =32, epochs=10, validation_split=0.1)"
   ]
  },
  {
   "cell_type": "code",
   "execution_count": 4,
   "metadata": {},
   "outputs": [],
   "source": [
    "model.save('64x3-CNN.model')"
   ]
  },
  {
   "cell_type": "code",
   "execution_count": null,
   "metadata": {},
   "outputs": [],
   "source": []
  }
 ],
 "metadata": {
  "kernelspec": {
   "display_name": "Python 3",
   "language": "python",
   "name": "python3"
  },
  "language_info": {
   "codemirror_mode": {
    "name": "ipython",
    "version": 3
   },
   "file_extension": ".py",
   "mimetype": "text/x-python",
   "name": "python",
   "nbconvert_exporter": "python",
   "pygments_lexer": "ipython3",
   "version": "3.7.1"
  }
 },
 "nbformat": 4,
 "nbformat_minor": 2
}
